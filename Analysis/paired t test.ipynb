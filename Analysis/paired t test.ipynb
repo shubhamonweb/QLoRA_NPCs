{
 "cells": [
  {
   "cell_type": "code",
   "execution_count": 1,
   "id": "c3b9e772",
   "metadata": {},
   "outputs": [
    {
     "name": "stdout",
     "output_type": "stream",
     "text": [
      "T-statistic: 2.9699449604818007, P-value: 0.0311590704882627\n"
     ]
    }
   ],
   "source": [
    "from scipy.stats import ttest_rel\n",
    "\n",
    "# Emotion Classifier Cosine Similarity\n",
    "\n",
    "base = [0.200851, 0.265321, 0.17916, 0.139291, 0.212734, 0.241794]\n",
    "lora = [0.270827, 0.275807, 0.27099, 0.177666, 0.336785, 0.24792]\n",
    "\n",
    "t_stat, p_value = ttest_rel(lora, base)\n",
    "\n",
    "print(f\"T-statistic: {t_stat}, P-value: {p_value}\")\n"
   ]
  },
  {
   "cell_type": "code",
   "execution_count": 8,
   "id": "84cf0f97",
   "metadata": {},
   "outputs": [
    {
     "name": "stdout",
     "output_type": "stream",
     "text": [
      "T-statistic: 3.8436884957930357, P-value: 0.01207831691762197\n"
     ]
    }
   ],
   "source": [
    "#in char score\n",
    "base = [2.59,3.68,3.28,3.72,3.39,4.00,3.81,4.22,3.67,3.75,3.06,2.97]\n",
    "lora = [3.08,4.50,4.11,3.91,3.31,4.43,4.17,4.56,3.72,4.06,4.25,3.67]\n",
    "\n",
    "base = [(2.59+3.68)/2,(3.28+3.72)/2,(3.39+4.00)/2,(3.81+4.22)/2,(3.67+3.75)/2,(3.06+2.97)/2]\n",
    "lora = [(3.08+4.50)/2,(4.11+3.91)/2,(3.31+4.43)/2,(4.17+4.56)/2,(3.72+4.06)/2,(4.25+3.67)/2]\n",
    "\n",
    "t_stat, p_value = ttest_rel(lora, base)\n",
    "\n",
    "print(f\"T-statistic: {t_stat}, P-value: {p_value}\")\n"
   ]
  },
  {
   "cell_type": "code",
   "execution_count": 4,
   "id": "b26a6064",
   "metadata": {},
   "outputs": [
    {
     "name": "stdout",
     "output_type": "stream",
     "text": [
      "T-statistic: 4.449733351960914, P-value: 0.006703989399289212\n"
     ]
    }
   ],
   "source": [
    "#entertainment scores\n",
    "base=[2.895,3.25,3.305,3.655,3.235,2.64]\n",
    "lora=[3.485,3.565,3.325,4.14,3.595,3.24]\n",
    "\n",
    "t_stat, p_value = ttest_rel(lora, base)\n",
    "\n",
    "print(f\"T-statistic: {t_stat}, P-value: {p_value}\")\n"
   ]
  },
  {
   "cell_type": "code",
   "execution_count": 11,
   "id": "9dbc8fb4",
   "metadata": {},
   "outputs": [
    {
     "name": "stdout",
     "output_type": "stream",
     "text": [
      "T-statistic: 0.2956077522671555, P-value: 0.7794123619568397\n"
     ]
    }
   ],
   "source": [
    "#fluency score\n",
    "base = [4.27,4.095,4.03,4.26,4.18,4]\n",
    "lora = [4.335,3.94,4.195,4.32,4.125,4]\n",
    "\n",
    "\n",
    "t_stat, p_value = ttest_rel(lora, base)\n",
    "\n",
    "print(f\"T-statistic: {t_stat}, P-value: {p_value}\")\n"
   ]
  },
  {
   "cell_type": "code",
   "execution_count": 10,
   "id": "44b97c77",
   "metadata": {},
   "outputs": [
    {
     "data": {
      "text/plain": [
       "3.5116666666666667"
      ]
     },
     "execution_count": 10,
     "metadata": {},
     "output_type": "execute_result"
    }
   ],
   "source": [
    "sum(base)/6"
   ]
  },
  {
   "cell_type": "code",
   "execution_count": 13,
   "id": "0a00cf9a",
   "metadata": {},
   "outputs": [
    {
     "data": {
      "text/plain": [
       "KstestResult(statistic=0.3333333333333333, pvalue=0.9307359307359307, statistic_location=4.27, statistic_sign=1)"
      ]
     },
     "execution_count": 13,
     "metadata": {},
     "output_type": "execute_result"
    }
   ],
   "source": [
    "from scipy.stats import ks_2samp\n",
    "\n",
    "ks_2samp(base, lora)\n"
   ]
  },
  {
   "cell_type": "code",
   "execution_count": null,
   "id": "3396b145",
   "metadata": {},
   "outputs": [],
   "source": []
  }
 ],
 "metadata": {
  "kernelspec": {
   "display_name": "Python 3 (ipykernel)",
   "language": "python",
   "name": "python3"
  },
  "language_info": {
   "codemirror_mode": {
    "name": "ipython",
    "version": 3
   },
   "file_extension": ".py",
   "mimetype": "text/x-python",
   "name": "python",
   "nbconvert_exporter": "python",
   "pygments_lexer": "ipython3",
   "version": "3.11.4"
  }
 },
 "nbformat": 4,
 "nbformat_minor": 5
}
